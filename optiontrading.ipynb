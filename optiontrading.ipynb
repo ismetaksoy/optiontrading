{
 "cells": [
  {
   "cell_type": "code",
   "execution_count": 6,
   "metadata": {},
   "outputs": [],
   "source": [
    "import pandas as pd\n",
    "import numpy as np\n",
    "import matplotlib.pyplot as plt\n",
    "import quandl\n",
    "import datetime\n",
    "from pandas_datareader import data as pdr\n",
    "import ivolat3"
   ]
  },
  {
   "cell_type": "code",
   "execution_count": 41,
   "metadata": {},
   "outputs": [],
   "source": [
    "# We will look at stock prices over the past year, starting at January 1, 2016\n",
    "start = datetime.datetime(2019,1,1)\n",
    "end = datetime.date.today()\n",
    "\n",
    "# use quandl for american stocks\n",
    "\n",
    "# use datareader for european stocks\n",
    "besi = pdr.DataReader('BESI.AS','yahoo',start,end)\n",
    "sp500 = pdr.DataReader('^GSPC','yahoo',start,end)\n"
   ]
  },
  {
   "cell_type": "code",
   "execution_count": 59,
   "metadata": {},
   "outputs": [
    {
     "data": {
      "text/plain": [
       "BESI Close    2.364528\n",
       "dtype: float64"
      ]
     },
     "execution_count": 59,
     "metadata": {},
     "output_type": "execute_result"
    }
   ],
   "source": [
    "besi_stock =pd.DataFrame({\n",
    "    'BESI Close': besi['Adj Close']\n",
    "})\n",
    "sig =np.std(besi_stock)\n",
    "sig"
   ]
  },
  {
   "cell_type": "code",
   "execution_count": 43,
   "metadata": {},
   "outputs": [],
   "source": [
    "sp500_df = pd.DataFrame({\n",
    "    \"SP500 Adj Close\":sp500['Adj Close']\n",
    "})"
   ]
  },
  {
   "cell_type": "code",
   "execution_count": 60,
   "metadata": {},
   "outputs": [],
   "source": [
    "s = besi_stock.iloc[-1]\n",
    "k = 22\n",
    "r = 0.003\n",
    "q = 0.1\n",
    "t = 14/365\n",
    "sigma = sig\n"
   ]
  },
  {
   "cell_type": "code",
   "execution_count": 61,
   "metadata": {},
   "outputs": [
    {
     "data": {
      "text/plain": [
       "3.2507434965614976"
      ]
     },
     "execution_count": 61,
     "metadata": {},
     "output_type": "execute_result"
    }
   ],
   "source": [
    "p = ivolat3.prem_call(s,k,r,q,t,sigma)\n",
    "p\n",
    "\n"
   ]
  },
  {
   "cell_type": "code",
   "execution_count": 62,
   "metadata": {},
   "outputs": [
    {
     "data": {
      "text/plain": [
       "2.3645280998812397"
      ]
     },
     "execution_count": 62,
     "metadata": {},
     "output_type": "execute_result"
    }
   ],
   "source": [
    "ivolat3.ivolat_call(s, k, r, q, t, p)"
   ]
  },
  {
   "cell_type": "code",
   "execution_count": 89,
   "metadata": {},
   "outputs": [
    {
     "data": {
      "text/plain": [
       "BESI Close    21.630087\n",
       "dtype: float64"
      ]
     },
     "execution_count": 89,
     "metadata": {},
     "output_type": "execute_result"
    }
   ],
   "source": [
    "c =besi_stock.mean()\n",
    "c"
   ]
  },
  {
   "cell_type": "code",
   "execution_count": 87,
   "metadata": {},
   "outputs": [
    {
     "data": {
      "text/plain": [
       "BESI Close    23.994615\n",
       "dtype: float64"
      ]
     },
     "execution_count": 87,
     "metadata": {},
     "output_type": "execute_result"
    }
   ],
   "source": [
    "c+ivolat3.ivolat_call(s, k, r, q, t, p)"
   ]
  },
  {
   "cell_type": "code",
   "execution_count": 86,
   "metadata": {},
   "outputs": [
    {
     "data": {
      "text/plain": [
       "BESI Close    19.265559\n",
       "dtype: float64"
      ]
     },
     "execution_count": 86,
     "metadata": {},
     "output_type": "execute_result"
    }
   ],
   "source": [
    "c-ivolat3.ivolat_call(s, k, r, q, t, p)"
   ]
  },
  {
   "cell_type": "code",
   "execution_count": 97,
   "metadata": {},
   "outputs": [
    {
     "data": {
      "text/plain": [
       "(array([0.00321937, 0.        , 0.        , 0.00643874, 0.00321937,\n",
       "        0.01287748, 0.02253559, 0.0321937 , 0.02897433, 0.02253559,\n",
       "        0.03863244, 0.06760677, 0.08048425, 0.07404551, 0.10301984,\n",
       "        0.12233606, 0.12555543, 0.14165228, 0.12233606, 0.13521354,\n",
       "        0.15452976, 0.16418787, 0.16418787, 0.13843291, 0.1609685 ,\n",
       "        0.15452976, 0.14809102, 0.11589732, 0.09980047, 0.15131039,\n",
       "        0.11589732, 0.08692299, 0.06760677, 0.07404551, 0.06760677,\n",
       "        0.04507118, 0.04829055, 0.0321937 , 0.02575496, 0.01287748,\n",
       "        0.00965811, 0.00321937, 0.01609685, 0.00321937, 0.00643874,\n",
       "        0.        , 0.        , 0.00321937, 0.        , 0.00643874]),\n",
       " array([14.49361199, 14.80423177, 15.11485156, 15.42547135, 15.73609114,\n",
       "        16.04671092, 16.35733071, 16.6679505 , 16.97857029, 17.28919008,\n",
       "        17.59980986, 17.91042965, 18.22104944, 18.53166923, 18.84228901,\n",
       "        19.1529088 , 19.46352859, 19.77414838, 20.08476816, 20.39538795,\n",
       "        20.70600774, 21.01662753, 21.32724731, 21.6378671 , 21.94848689,\n",
       "        22.25910668, 22.56972646, 22.88034625, 23.19096604, 23.50158583,\n",
       "        23.81220561, 24.1228254 , 24.43344519, 24.74406498, 25.05468476,\n",
       "        25.36530455, 25.67592434, 25.98654413, 26.29716391, 26.6077837 ,\n",
       "        26.91840349, 27.22902328, 27.53964306, 27.85026285, 28.16088264,\n",
       "        28.47150243, 28.78212221, 29.092742  , 29.40336179, 29.71398158,\n",
       "        30.02460136]),\n",
       " <a list of 50 Patch objects>)"
      ]
     },
     "execution_count": 97,
     "metadata": {},
     "output_type": "execute_result"
    },
    {
     "data": {
      "image/png": "[encoded data removed]",
      "text/plain": [
       "<Figure size 432x288 with 1 Axes>"
      ]
     },
     "metadata": {
      "needs_background": "light"
     },
     "output_type": "display_data"
    }
   ],
   "source": [
    "mu = c\n",
    "\n",
    "\n",
    "d = np.random.normal(mu,sigma,1000)\n",
    "plt.hist(d, 50, density=True)"
   ]
  },
  {
   "cell_type": "code",
   "execution_count": null,
   "metadata": {},
   "outputs": [],
   "source": []
  }
 ],
 "metadata": {
  "kernelspec": {
   "display_name": "Python 3",
   "language": "python",
   "name": "python3"
  },
  "language_info": {
   "codemirror_mode": {
    "name": "ipython",
    "version": 3
   },
   "file_extension": ".py",
   "mimetype": "text/x-python",
   "name": "python",
   "nbconvert_exporter": "python",
   "pygments_lexer": "ipython3",
   "version": "3.7.2"
  }
 },
 "nbformat": 4,
 "nbformat_minor": 2
}
