{
 "cells": [
  {
   "cell_type": "code",
   "execution_count": 6,
   "metadata": {},
   "outputs": [],
   "source": [
    "import pandas as pd\n",
    "import numpy as np\n",
    "import matplotlib.pyplot as plt\n",
    "import quandl\n",
    "import datetime\n",
    "from pandas_datareader import data as pdr\n",
    "import ivolat3"
   ]
  },
  {
   "cell_type": "code",
   "execution_count": 41,
   "metadata": {},
   "outputs": [],
   "source": [
    "# We will look at stock prices over the past year, starting at January 1, 2016\n",
    "start = datetime.datetime(2019,1,1)\n",
    "end = datetime.date.today()\n",
    "\n",
    "# use quandl for american stocks\n",
    "\n",
    "# use datareader for european stocks\n",
    "besi = pdr.DataReader('BESI.AS','yahoo',start,end)\n",
    "sp500 = pdr.DataReader('^GSPC','yahoo',start,end)\n"
   ]
  },
  {
   "cell_type": "code",
   "execution_count": 59,
   "metadata": {},
   "outputs": [
    {
     "data": {
      "text/plain": [
       "BESI Close    2.364528\n",
       "dtype: float64"
      ]
     },
     "execution_count": 59,
     "metadata": {},
     "output_type": "execute_result"
    }
   ],
   "source": [
    "besi_stock =pd.DataFrame({\n",
    "    'BESI Close': besi['Adj Close']\n",
    "})\n",
    "sig =np.std(besi_stock)\n",
    "sig"
   ]
  },
  {
   "cell_type": "code",
   "execution_count": 43,
   "metadata": {},
   "outputs": [],
   "source": [
    "sp500_df = pd.DataFrame({\n",
    "    \"SP500 Adj Close\":sp500['Adj Close']\n",
    "})"
   ]
  },
  {
   "cell_type": "code",
   "execution_count": 60,
   "metadata": {},
   "outputs": [],
   "source": [
    "s = besi_stock.iloc[-1]\n",
    "k = 22\n",
    "r = 0.003\n",
    "q = 0.1\n",
    "t = 14/365\n",
    "sigma = sig\n"
   ]
  },
  {
   "cell_type": "code",
   "execution_count": 61,
   "metadata": {},
   "outputs": [
    {
     "data": {
      "text/plain": [
       "3.2507434965614976"
      ]
     },
     "execution_count": 61,
     "metadata": {},
     "output_type": "execute_result"
    }
   ],
   "source": [
    "p = ivolat3.prem_call(s,k,r,q,t,sigma)\n",
    "p"
   ]
  },
  {
   "cell_type": "code",
   "execution_count": 62,
   "metadata": {},
   "outputs": [
    {
     "data": {
      "text/plain": [
       "2.3645280998812397"
      ]
     },
     "execution_count": 62,
     "metadata": {},
     "output_type": "execute_result"
    }
   ],
   "source": [
    "ivolat3.ivolat_call(s, k, r, q, t, p)"
   ]
  },
  {
   "cell_type": "code",
   "execution_count": 64,
   "metadata": {},
   "outputs": [],
   "source": [
    "c =besi_stock.mean()"
   ]
  },
  {
   "cell_type": "code",
   "execution_count": 65,
   "metadata": {},
   "outputs": [
    {
     "data": {
      "text/plain": [
       "BESI Close    23.994615\n",
       "dtype: float64"
      ]
     },
     "execution_count": 65,
     "metadata": {},
     "output_type": "execute_result"
    }
   ],
   "source": [
    "c+ivolat3.ivolat_call(s, k, r, q, t, p)"
   ]
  },
  {
   "cell_type": "code",
   "execution_count": 66,
   "metadata": {},
   "outputs": [
    {
     "data": {
      "text/plain": [
       "BESI Close    19.265559\n",
       "dtype: float64"
      ]
     },
     "execution_count": 66,
     "metadata": {},
     "output_type": "execute_result"
    }
   ],
   "source": [
    "c-ivolat3.ivolat_call(s, k, r, q, t, p)"
   ]
  },
  {
   "cell_type": "code",
   "execution_count": 82,
   "metadata": {},
   "outputs": [
    {
     "data": {
      "text/plain": [
       "(array([0.00539821, 0.        , 0.        , 0.00539821, 0.01619464,\n",
       "        0.01619464, 0.01079643, 0.00539821, 0.01619464, 0.01619464,\n",
       "        0.01079643, 0.0377875 , 0.05398215, 0.05938036, 0.11336251,\n",
       "        0.09716787, 0.06477858, 0.09716787, 0.1079643 , 0.13495537,\n",
       "        0.1457518 , 0.15115002, 0.19433574, 0.16194645, 0.16194645,\n",
       "        0.1457518 , 0.22132681, 0.15115002, 0.16734466, 0.1457518 ,\n",
       "        0.22132681, 0.07557501, 0.13495537, 0.06477858, 0.06477858,\n",
       "        0.09176965, 0.04318572, 0.08097322, 0.04318572, 0.04318572,\n",
       "        0.02699107, 0.02699107, 0.01619464, 0.01079643, 0.01619464,\n",
       "        0.01079643, 0.00539821, 0.00539821, 0.00539821, 0.00539821]),\n",
       " array([14.48581971, 14.77081421, 15.0558087 , 15.3408032 , 15.6257977 ,\n",
       "        15.9107922 , 16.1957867 , 16.48078119, 16.76577569, 17.05077019,\n",
       "        17.33576469, 17.62075918, 17.90575368, 18.19074818, 18.47574268,\n",
       "        18.76073717, 19.04573167, 19.33072617, 19.61572067, 19.90071517,\n",
       "        20.18570966, 20.47070416, 20.75569866, 21.04069316, 21.32568765,\n",
       "        21.61068215, 21.89567665, 22.18067115, 22.46566564, 22.75066014,\n",
       "        23.03565464, 23.32064914, 23.60564364, 23.89063813, 24.17563263,\n",
       "        24.46062713, 24.74562163, 25.03061612, 25.31561062, 25.60060512,\n",
       "        25.88559962, 26.17059411, 26.45558861, 26.74058311, 27.02557761,\n",
       "        27.31057211, 27.5955666 , 27.8805611 , 28.1655556 , 28.4505501 ,\n",
       "        28.73554459]),\n",
       " <a list of 50 Patch objects>)"
      ]
     },
     "execution_count": 82,
     "metadata": {},
     "output_type": "execute_result"
    },
    {
     "data": {
      "image/png": "[encoded data removed]",
      "text/plain": [
       "<Figure size 432x288 with 1 Axes>"
      ]
     },
     "metadata": {
      "needs_background": "light"
     },
     "output_type": "display_data"
    }
   ],
   "source": [
    "mu = c\n",
    "\n",
    "\n",
    "d = np.random.normal(mu,sigma,650)\n",
    "plt.hist(d, 50, density=True)"
   ]
  },
  {
   "cell_type": "code",
   "execution_count": 81,
   "metadata": {},
   "outputs": [
    {
     "data": {
      "text/plain": [
       "0.38482308"
      ]
     },
     "execution_count": 81,
     "metadata": {},
     "output_type": "execute_result"
    }
   ],
   "source": [
    "vv =0.00442325+ 0.00884651+ 0.00884651+0.00442325+0.00884651+0.00884651+ 0.02211627+ 0.01326976+ 0.0486558 + 0.03096278+0.08846509+ 0.08404184+ 0.0530790\n",
    "\n",
    "vv"
   ]
  }
 ],
 "metadata": {
  "kernelspec": {
   "display_name": "Python 3",
   "language": "python",
   "name": "python3"
  },
  "language_info": {
   "codemirror_mode": {
    "name": "ipython",
    "version": 3
   },
   "file_extension": ".py",
   "mimetype": "text/x-python",
   "name": "python",
   "nbconvert_exporter": "python",
   "pygments_lexer": "ipython3",
   "version": "3.7.2"
  }
 },
 "nbformat": 4,
 "nbformat_minor": 2
}
