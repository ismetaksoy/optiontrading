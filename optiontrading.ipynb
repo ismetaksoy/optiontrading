{
 "cells": [
  {
   "cell_type": "code",
   "execution_count": 40,
   "metadata": {},
   "outputs": [],
   "source": [
    "import pandas as pd\n",
    "import numpy as np\n",
    "import matplotlib.pyplot as plt\n",
    "import quandl\n",
    "import datetime\n",
    "from pandas_datareader import data as pdr\n",
    "from wallstreet import Stock, Call, Put"
   ]
  },
  {
   "cell_type": "code",
   "execution_count": 33,
   "metadata": {},
   "outputs": [],
   "source": [
    "# We will look at stock prices over the past year, starting at January 1, 2016\n",
    "start = datetime.datetime(2017,1,1)\n",
    "end = datetime.date.today()\n",
    "\n",
    "# use quandl for american stocks\n",
    "apple = quandl.get(\"WIKI/\" + b,start_date=start,end_date=end)\n",
    "# use datareader for european stocks\n",
    "besi = pdr.DataReader('BESI.AS','yahoo',start,end)\n",
    "sp500 = pdr.DataReader('^GSPC','yahoo',start,end)\n"
   ]
  },
  {
   "cell_type": "code",
   "execution_count": 31,
   "metadata": {},
   "outputs": [],
   "source": [
    "besi_stock =pd.DataFrame({\n",
    "    'BESI Close': besi['Adj Close']\n",
    "})"
   ]
  },
  {
   "cell_type": "code",
   "execution_count": 32,
   "metadata": {},
   "outputs": [],
   "source": [
    "sp500_df = pd.DataFrame({\n",
    "    \"SP500 Adj Close\":sp500['Adj Close']\n",
    "})"
   ]
  },
  {
   "cell_type": "code",
   "execution_count": 46,
   "metadata": {},
   "outputs": [],
   "source": [
    "b = Stock(\"BESI.AS\", source='yahoo')"
   ]
  },
  {
   "cell_type": "code",
   "execution_count": 57,
   "metadata": {},
   "outputs": [
    {
     "name": "stdout",
     "output_type": "stream",
     "text": [
      "No options listed for given date, using 18-10-2019 instead\n"
     ]
    },
    {
     "data": {
      "text/plain": [
       "Call(ticker=AAPL, expiration=18-10-2019)"
      ]
     },
     "execution_count": 57,
     "metadata": {},
     "output_type": "execute_result"
    }
   ],
   "source": [
    "c = Call(\"AAPL\",source='yahoo',d=21,m=6,y=2019)\n",
    "c"
   ]
  }
 ],
 "metadata": {
  "kernelspec": {
   "display_name": "Python 3",
   "language": "python",
   "name": "python3"
  },
  "language_info": {
   "codemirror_mode": {
    "name": "ipython",
    "version": 3
   },
   "file_extension": ".py",
   "mimetype": "text/x-python",
   "name": "python",
   "nbconvert_exporter": "python",
   "pygments_lexer": "ipython3",
   "version": "3.7.2"
  }
 },
 "nbformat": 4,
 "nbformat_minor": 2
}
