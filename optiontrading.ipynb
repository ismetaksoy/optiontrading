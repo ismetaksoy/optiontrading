{
 "cells": [
  {
   "cell_type": "code",
   "execution_count": 6,
   "metadata": {},
   "outputs": [],
   "source": [
    "import pandas as pd\n",
    "import numpy as np\n",
    "import matplotlib.pyplot as plt\n",
    "import quandl\n",
    "import datetime\n",
    "from pandas_datareader import data as pdr\n",
    "import ivolat3"
   ]
  },
  {
   "cell_type": "code",
   "execution_count": 41,
   "metadata": {},
   "outputs": [],
   "source": [
    "# We will look at stock prices over the past year, starting at January 1, 2016\n",
    "start = datetime.datetime(2019,1,1)\n",
    "end = datetime.date.today()\n",
    "\n",
    "# use quandl for american stocks\n",
    "\n",
    "# use datareader for european stocks\n",
    "besi = pdr.DataReader('BESI.AS','yahoo',start,end)\n",
    "sp500 = pdr.DataReader('^GSPC','yahoo',start,end)\n"
   ]
  },
  {
   "cell_type": "code",
   "execution_count": 59,
   "metadata": {},
   "outputs": [
    {
     "data": {
      "text/plain": [
       "BESI Close    2.364528\n",
       "dtype: float64"
      ]
     },
     "execution_count": 59,
     "metadata": {},
     "output_type": "execute_result"
    }
   ],
   "source": [
    "besi_stock =pd.DataFrame({\n",
    "    'BESI Close': besi['Adj Close']\n",
    "})\n",
    "sig =np.std(besi_stock)\n",
    "sig"
   ]
  },
  {
   "cell_type": "code",
   "execution_count": 43,
   "metadata": {},
   "outputs": [],
   "source": [
    "sp500_df = pd.DataFrame({\n",
    "    \"SP500 Adj Close\":sp500['Adj Close']\n",
    "})"
   ]
  },
  {
   "cell_type": "code",
   "execution_count": 60,
   "metadata": {},
   "outputs": [],
   "source": [
    "s = besi_stock.iloc[-1]\n",
    "k = 22\n",
    "r = 0.003\n",
    "q = 0.1\n",
    "t = 14/365\n",
    "sigma = sig\n"
   ]
  },
  {
   "cell_type": "code",
   "execution_count": 61,
   "metadata": {},
   "outputs": [
    {
     "data": {
      "text/plain": [
       "3.2507434965614976"
      ]
     },
     "execution_count": 61,
     "metadata": {},
     "output_type": "execute_result"
    }
   ],
   "source": [
    "p = ivolat3.prem_call(s,k,r,q,t,sigma)\n",
    "p"
   ]
  },
  {
   "cell_type": "code",
   "execution_count": 62,
   "metadata": {},
   "outputs": [
    {
     "data": {
      "text/plain": [
       "2.3645280998812397"
      ]
     },
     "execution_count": 62,
     "metadata": {},
     "output_type": "execute_result"
    }
   ],
   "source": [
    "ivolat3.ivolat_call(s, k, r, q, t, p)"
   ]
  },
  {
   "cell_type": "code",
   "execution_count": 64,
   "metadata": {},
   "outputs": [],
   "source": [
    "c =besi_stock.mean()"
   ]
  },
  {
   "cell_type": "code",
   "execution_count": 65,
   "metadata": {},
   "outputs": [
    {
     "data": {
      "text/plain": [
       "BESI Close    23.994615\n",
       "dtype: float64"
      ]
     },
     "execution_count": 65,
     "metadata": {},
     "output_type": "execute_result"
    }
   ],
   "source": [
    "c+ivolat3.ivolat_call(s, k, r, q, t, p)"
   ]
  },
  {
   "cell_type": "code",
   "execution_count": 66,
   "metadata": {},
   "outputs": [
    {
     "data": {
      "text/plain": [
       "BESI Close    19.265559\n",
       "dtype: float64"
      ]
     },
     "execution_count": 66,
     "metadata": {},
     "output_type": "execute_result"
    }
   ],
   "source": [
    "c-ivolat3.ivolat_call(s, k, r, q, t, p)"
   ]
  },
  {
   "cell_type": "code",
   "execution_count": 84,
   "metadata": {},
   "outputs": [
    {
     "data": {
      "text/plain": [
       "(array([0.00551352, 0.        , 0.00551352, 0.        , 0.00551352,\n",
       "        0.01102704, 0.02205407, 0.01654055, 0.03308111, 0.02205407,\n",
       "        0.04410814, 0.02205407, 0.07718925, 0.05513518, 0.13783795,\n",
       "        0.06616222, 0.09924332, 0.12681091, 0.11578388, 0.14886499,\n",
       "        0.14335147, 0.22054072, 0.16540554, 0.15989202, 0.19848665,\n",
       "        0.14886499, 0.14335147, 0.19848665, 0.19848665, 0.13232443,\n",
       "        0.10475684, 0.11027036, 0.12681091, 0.12681091, 0.07718925,\n",
       "        0.06616222, 0.04410814, 0.04410814, 0.02205407, 0.02756759,\n",
       "        0.02205407, 0.03859463, 0.00551352, 0.00551352, 0.01102704,\n",
       "        0.00551352, 0.00551352, 0.00551352, 0.00551352, 0.00551352]),\n",
       " array([14.69300695, 14.97204141, 15.25107588, 15.53011034, 15.80914481,\n",
       "        16.08817927, 16.36721373, 16.6462482 , 16.92528266, 17.20431713,\n",
       "        17.48335159, 17.76238605, 18.04142052, 18.32045498, 18.59948945,\n",
       "        18.87852391, 19.15755838, 19.43659284, 19.7156273 , 19.99466177,\n",
       "        20.27369623, 20.5527307 , 20.83176516, 21.11079962, 21.38983409,\n",
       "        21.66886855, 21.94790302, 22.22693748, 22.50597194, 22.78500641,\n",
       "        23.06404087, 23.34307534, 23.6221098 , 23.90114427, 24.18017873,\n",
       "        24.45921319, 24.73824766, 25.01728212, 25.29631659, 25.57535105,\n",
       "        25.85438551, 26.13341998, 26.41245444, 26.69148891, 26.97052337,\n",
       "        27.24955784, 27.5285923 , 27.80762676, 28.08666123, 28.36569569,\n",
       "        28.64473016]),\n",
       " <a list of 50 Patch objects>)"
      ]
     },
     "execution_count": 84,
     "metadata": {},
     "output_type": "execute_result"
    },
    {
     "data": {
      "image/png": "[encoded data removed]",
      "text/plain": [
       "<Figure size 432x288 with 1 Axes>"
      ]
     },
     "metadata": {
      "needs_background": "light"
     },
     "output_type": "display_data"
    }
   ],
   "source": [
    "mu = c\n",
    "\n",
    "\n",
    "d = np.random.normal(mu,sigma,650)\n",
    "plt.hist(d, 50, density=True)"
   ]
  },
  {
   "cell_type": "code",
   "execution_count": 81,
   "metadata": {},
   "outputs": [
    {
     "data": {
      "text/plain": [
       "0.38482308"
      ]
     },
     "execution_count": 81,
     "metadata": {},
     "output_type": "execute_result"
    }
   ],
   "source": [
    "vv =0.00442325+ 0.00884651+ 0.00884651+0.00442325+0.00884651+0.00884651+ 0.02211627+ 0.01326976+ 0.0486558 + 0.03096278+0.08846509+ 0.08404184+ 0.0530790\n",
    "\n",
    "vv"
   ]
  }
 ],
 "metadata": {
  "kernelspec": {
   "display_name": "Python 3",
   "language": "python",
   "name": "python3"
  },
  "language_info": {
   "codemirror_mode": {
    "name": "ipython",
    "version": 3
   },
   "file_extension": ".py",
   "mimetype": "text/x-python",
   "name": "python",
   "nbconvert_exporter": "python",
   "pygments_lexer": "ipython3",
   "version": "3.7.2"
  }
 },
 "nbformat": 4,
 "nbformat_minor": 2
}
