{
 "cells": [
  {
   "cell_type": "code",
   "execution_count": 6,
   "metadata": {},
   "outputs": [],
   "source": [
    "import pandas as pd\n",
    "import numpy as np\n",
    "import matplotlib.pyplot as plt\n",
    "import quandl\n",
    "import datetime\n",
    "from pandas_datareader import data as pdr\n",
    "import ivolat3"
   ]
  },
  {
   "cell_type": "code",
   "execution_count": 41,
   "metadata": {},
   "outputs": [],
   "source": [
    "# We will look at stock prices over the past year, starting at January 1, 2016\n",
    "start = datetime.datetime(2019,1,1)\n",
    "end = datetime.date.today()\n",
    "\n",
    "# use quandl for american stocks\n",
    "\n",
    "# use datareader for european stocks\n",
    "besi = pdr.DataReader('BESI.AS','yahoo',start,end)\n",
    "sp500 = pdr.DataReader('^GSPC','yahoo',start,end)\n"
   ]
  },
  {
   "cell_type": "code",
   "execution_count": 59,
   "metadata": {},
   "outputs": [
    {
     "data": {
      "text/plain": [
       "BESI Close    2.364528\n",
       "dtype: float64"
      ]
     },
     "execution_count": 59,
     "metadata": {},
     "output_type": "execute_result"
    }
   ],
   "source": [
    "besi_stock =pd.DataFrame({\n",
    "    'BESI Close': besi['Adj Close']\n",
    "})\n",
    "sig =np.std(besi_stock)\n",
    "sig"
   ]
  },
  {
   "cell_type": "code",
   "execution_count": 43,
   "metadata": {},
   "outputs": [],
   "source": [
    "sp500_df = pd.DataFrame({\n",
    "    \"SP500 Adj Close\":sp500['Adj Close']\n",
    "})"
   ]
  },
  {
   "cell_type": "code",
   "execution_count": 60,
   "metadata": {},
   "outputs": [],
   "source": [
    "s = besi_stock.iloc[-1]\n",
    "k = 22\n",
    "r = 0.003\n",
    "q = 0.1\n",
    "t = 14/365\n",
    "sigma = sig\n"
   ]
  },
  {
   "cell_type": "code",
   "execution_count": 61,
   "metadata": {},
   "outputs": [
    {
     "data": {
      "text/plain": [
       "3.2507434965614976"
      ]
     },
     "execution_count": 61,
     "metadata": {},
     "output_type": "execute_result"
    }
   ],
   "source": [
    "p = ivolat3.prem_call(s,k,r,q,t,sigma)\n",
    "p\n",
    "\n"
   ]
  },
  {
   "cell_type": "code",
   "execution_count": 62,
   "metadata": {},
   "outputs": [
    {
     "data": {
      "text/plain": [
       "2.3645280998812397"
      ]
     },
     "execution_count": 62,
     "metadata": {},
     "output_type": "execute_result"
    }
   ],
   "source": [
    "ivolat3.ivolat_call(s, k, r, q, t, p)"
   ]
  },
  {
   "cell_type": "code",
   "execution_count": 89,
   "metadata": {},
   "outputs": [
    {
     "data": {
      "text/plain": [
       "BESI Close    21.630087\n",
       "dtype: float64"
      ]
     },
     "execution_count": 89,
     "metadata": {},
     "output_type": "execute_result"
    }
   ],
   "source": [
    "c =besi_stock.mean()\n",
    "c"
   ]
  },
  {
   "cell_type": "code",
   "execution_count": 87,
   "metadata": {},
   "outputs": [
    {
     "data": {
      "text/plain": [
       "BESI Close    23.994615\n",
       "dtype: float64"
      ]
     },
     "execution_count": 87,
     "metadata": {},
     "output_type": "execute_result"
    }
   ],
   "source": [
    "c+ivolat3.ivolat_call(s, k, r, q, t, p)"
   ]
  },
  {
   "cell_type": "code",
   "execution_count": 86,
   "metadata": {},
   "outputs": [
    {
     "data": {
      "text/plain": [
       "BESI Close    19.265559\n",
       "dtype: float64"
      ]
     },
     "execution_count": 86,
     "metadata": {},
     "output_type": "execute_result"
    }
   ],
   "source": [
    "c-ivolat3.ivolat_call(s, k, r, q, t, p)"
   ]
  },
  {
   "cell_type": "code",
   "execution_count": 98,
   "metadata": {},
   "outputs": [
    {
     "data": {
      "text/plain": [
       "(array([0.00495065, 0.        , 0.00742597, 0.01732727, 0.02475324,\n",
       "        0.02970389, 0.03465454, 0.05198181, 0.05198181, 0.07673506,\n",
       "        0.11386492, 0.13119219, 0.11386492, 0.18812465, 0.1930753 ,\n",
       "        0.16089608, 0.15347011, 0.12376622, 0.13614284, 0.14851946,\n",
       "        0.16089608, 0.12376622, 0.08663635, 0.09406233, 0.06683376,\n",
       "        0.05445714, 0.03712987, 0.02227792, 0.02475324, 0.01237662,\n",
       "        0.01237662, 0.00495065, 0.0099013 , 0.        , 0.00247532]),\n",
       " array([15.01852197, 15.42250943, 15.82649689, 16.23048435, 16.63447181,\n",
       "        17.03845927, 17.44244673, 17.84643419, 18.25042165, 18.6544091 ,\n",
       "        19.05839656, 19.46238402, 19.86637148, 20.27035894, 20.6743464 ,\n",
       "        21.07833386, 21.48232132, 21.88630878, 22.29029623, 22.69428369,\n",
       "        23.09827115, 23.50225861, 23.90624607, 24.31023353, 24.71422099,\n",
       "        25.11820845, 25.52219591, 25.92618336, 26.33017082, 26.73415828,\n",
       "        27.13814574, 27.5421332 , 27.94612066, 28.35010812, 28.75409558,\n",
       "        29.15808304]),\n",
       " <a list of 35 Patch objects>)"
      ]
     },
     "execution_count": 98,
     "metadata": {},
     "output_type": "execute_result"
    },
    {
     "data": {
      "image/png": "[encoded data removed]",
      "text/plain": [
       "<Figure size 432x288 with 1 Axes>"
      ]
     },
     "metadata": {
      "needs_background": "light"
     },
     "output_type": "display_data"
    }
   ],
   "source": [
    "mu = c\n",
    "\n",
    "\n",
    "d = np.random.normal(mu,sigma,1000)\n",
    "plt.hist(d, 35, density=True)"
   ]
  },
  {
   "cell_type": "code",
   "execution_count": null,
   "metadata": {},
   "outputs": [],
   "source": []
  }
 ],
 "metadata": {
  "kernelspec": {
   "display_name": "Python 3",
   "language": "python",
   "name": "python3"
  },
  "language_info": {
   "codemirror_mode": {
    "name": "ipython",
    "version": 3
   },
   "file_extension": ".py",
   "mimetype": "text/x-python",
   "name": "python",
   "nbconvert_exporter": "python",
   "pygments_lexer": "ipython3",
   "version": "3.7.2"
  }
 },
 "nbformat": 4,
 "nbformat_minor": 2
}
